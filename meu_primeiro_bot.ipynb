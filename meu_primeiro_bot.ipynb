{
  "nbformat": 4,
  "nbformat_minor": 0,
  "metadata": {
    "colab": {
      "provenance": [],
      "authorship_tag": "ABX9TyNSKvW1QWr9PG/43d1WwvZa",
      "include_colab_link": true
    },
    "kernelspec": {
      "name": "python3",
      "display_name": "Python 3"
    },
    "language_info": {
      "name": "python"
    }
  },
  "cells": [
    {
      "cell_type": "markdown",
      "metadata": {
        "id": "view-in-github",
        "colab_type": "text"
      },
      "source": [
        "<a href=\"https://colab.research.google.com/github/voigtjessica/Gemini_first_bot/blob/main/meu_primeiro_bot.ipynb\" target=\"_parent\"><img src=\"https://colab.research.google.com/assets/colab-badge.svg\" alt=\"Open In Colab\"/></a>"
      ]
    },
    {
      "cell_type": "markdown",
      "source": [
        "# Imersao AI Alura - Aula 4"
      ],
      "metadata": {
        "id": "ydkjqJh4njSS"
      }
    },
    {
      "cell_type": "code",
      "execution_count": null,
      "metadata": {
        "id": "_f-21yGDnanO"
      },
      "outputs": [],
      "source": [
        "# instalando o SDK do Google\n",
        "# !pip install -q -U google-generativeai\n",
        "\n",
        "# Import the Python SDK\n",
        "import google.generativeai as genai\n",
        "\n",
        "from google.colab import userdata\n",
        "api_key = userdata.get('SECRET_KEY')\n",
        "\n",
        "#configurando a API key, estou criando um cliente do gemini\n",
        "genai.configure(api_key=api_key)"
      ]
    },
    {
      "cell_type": "markdown",
      "source": [
        "Listar os modelos disponíveis"
      ],
      "metadata": {
        "id": "kOeAY_Qbnzi1"
      }
    },
    {
      "cell_type": "code",
      "source": [
        "# Código que vai me dar todos os os modelos que geram conteúdo no genai\n",
        "for m in genai.list_models():\n",
        "  if 'generateContent' in m.supported_generation_methods:\n",
        "    print(m.name)"
      ],
      "metadata": {
        "colab": {
          "base_uri": "https://localhost:8080/",
          "height": 138
        },
        "id": "xwI3pkTenxus",
        "outputId": "1aa3dc5d-a855-4e7b-c1c4-ce49e05b8a5e"
      },
      "execution_count": null,
      "outputs": [
        {
          "output_type": "stream",
          "name": "stdout",
          "text": [
            "models/gemini-1.0-pro\n",
            "models/gemini-1.0-pro-001\n",
            "models/gemini-1.0-pro-latest\n",
            "models/gemini-1.0-pro-vision-latest\n",
            "models/gemini-1.5-pro-latest\n",
            "models/gemini-pro\n",
            "models/gemini-pro-vision\n"
          ]
        }
      ]
    },
    {
      "cell_type": "markdown",
      "source": [
        "Gemini pro: vou enviar prompts apenas de texto <br>\n",
        "Gemini Pro-Vision: experiência multimodal"
      ],
      "metadata": {
        "id": "PRCvmC0comRh"
      }
    },
    {
      "cell_type": "code",
      "source": [
        "# nao preciso me preocupar com a ordem dos parâmetros\n",
        "\n",
        "generation_config = {\n",
        "    'candidate_count': 1,\n",
        "    'temperature': 0.2      # aleatoriedade das palavras do modelo 0 = mais conservador / 1 = mais criativo\n",
        "}"
      ],
      "metadata": {
        "id": "fwZa45JZorpy"
      },
      "execution_count": null,
      "outputs": []
    },
    {
      "cell_type": "code",
      "source": [
        "safety_settings = {\n",
        "    \"HARASSMENT\" : \"BLOCK_NONE\",\n",
        "    \"HATE\": \"BLOCK_NONE\",          # \"BLOCK_FEW\", \"BLOCK_MOST\", \"BLOCK_SOME\" # Some é Standard\n",
        "    \"SEXUAL\": \"BLOCK_NONE\"\n",
        "}"
      ],
      "metadata": {
        "id": "kFBlE-DbpyPJ"
      },
      "execution_count": null,
      "outputs": []
    },
    {
      "cell_type": "markdown",
      "source": [
        "## Iniciando o modelo"
      ],
      "metadata": {
        "id": "-pKNX4s7qlta"
      }
    },
    {
      "cell_type": "code",
      "source": [
        "# vou setar os parâmetros que eu criei lá em cima\n",
        "model = genai.GenerativeModel(model_name=\"gemini-1.0-pro\",\n",
        "                              generation_config=generation_config,\n",
        "                              safety_settings=safety_settings)"
      ],
      "metadata": {
        "id": "TKlyjFE9qSP3"
      },
      "execution_count": null,
      "outputs": []
    },
    {
      "cell_type": "code",
      "source": [
        "# Esse é o prompt e a resposta dele <3\n",
        "response = model.generate_content(\"Vamos aprender conteúdo sobre IA. Me dê sugestoes\")\n",
        "print(response.text)"
      ],
      "metadata": {
        "colab": {
          "base_uri": "https://localhost:8080/",
          "height": 642
        },
        "id": "nA3NKMeHrnM7",
        "outputId": "ab70204f-5f57-4060-8b32-b101b67c7254"
      },
      "execution_count": null,
      "outputs": [
        {
          "output_type": "stream",
          "name": "stdout",
          "text": [
            "**Introdução à IA**\n",
            "\n",
            "* Definição e histórico da IA\n",
            "* Tipos de IA (por exemplo, aprendizado de máquina, aprendizado profundo, processamento de linguagem natural)\n",
            "* Aplicações da IA em vários setores\n",
            "\n",
            "**Aprendizado de Máquina**\n",
            "\n",
            "* Algoritmos de aprendizado de máquina (por exemplo, regressão, classificação, agrupamento)\n",
            "* Técnicas de treinamento e avaliação de modelos\n",
            "* Seleção de recursos e preparação de dados\n",
            "\n",
            "**Aprendizado Profundo**\n",
            "\n",
            "* Redes neurais (por exemplo, CNNs, RNNs, Transformers)\n",
            "* Arquiteturas de rede e técnicas de treinamento\n",
            "* Aplicações em visão computacional, processamento de linguagem natural e reconhecimento de fala\n",
            "\n",
            "**Processamento de Linguagem Natural**\n",
            "\n",
            "* Técnicas de processamento de texto (por exemplo, tokenização, lematização, análise sintática)\n",
            "* Modelos de linguagem (por exemplo, BERT, GPT-3)\n",
            "* Aplicações em tradução automática, resumo de texto e geração de linguagem\n",
            "\n",
            "**Ética e Implicações Sociais da IA**\n",
            "\n",
            "* Preocupações éticas (por exemplo, viés, privacidade, segurança)\n",
            "* Implicações sociais (por exemplo, automação de empregos, desigualdade)\n",
            "* Regulamentações e diretrizes éticas para o desenvolvimento e uso da IA\n",
            "\n",
            "**Recursos Adicionais**\n",
            "\n",
            "* **Cursos online:** Coursera, edX, Udacity\n",
            "* **Livros:** \"Inteligência Artificial: Uma Abordagem Moderna\" (Stuart Russell e Peter Norvig), \"Aprendizado de Máquina\" (Ethem Alpaydin)\n",
            "* **Artigos de pesquisa:** Conferências e periódicos de IA (por exemplo, NeurIPS, ICML, ACL)\n",
            "* **Comunidades online:** Reddit, Discord, Stack Overflow\n"
          ]
        }
      ]
    },
    {
      "cell_type": "markdown",
      "source": [
        "## Criando o meu chat"
      ],
      "metadata": {
        "id": "GOwMBwwarmaI"
      }
    },
    {
      "cell_type": "code",
      "source": [
        "chat = model.start_chat(history =[]) # abrir uma lista vazia pra ele armazenar o meu histórico da conversa"
      ],
      "metadata": {
        "id": "-eIxrhkCr552"
      },
      "execution_count": null,
      "outputs": []
    },
    {
      "cell_type": "code",
      "source": [
        "prompt = input('Esperando prompt:')\n",
        "\n",
        "while prompt != \"fim\":                       # enquanto o prompt nao for fim... (o que eu defini como critério para encerrar o meu prompt)\n",
        "  response = chat.send_message(prompt)\n",
        "  print(\"🤖 Resposta: \", response.text, \"\\n\")\n",
        "  prompt = input('Esperando prompt:')"
      ],
      "metadata": {
        "colab": {
          "base_uri": "https://localhost:8080/",
          "height": 835
        },
        "id": "ALJ0CKuUsNW2",
        "outputId": "66086194-9dfe-439e-c474-58d4c36fd023"
      },
      "execution_count": null,
      "outputs": [
        {
          "name": "stdout",
          "output_type": "stream",
          "text": [
            "Esperando prompt:olá me explique as regras de gênero das palavras em alemao\n",
            "🤖 Resposta:  **Regras de Gênero em Alemão**\n",
            "\n",
            "Em alemão, os substantivos são classificados em três gêneros: masculino, feminino e neutro. O gênero de uma palavra geralmente determina o artigo indefinido e definido usado com ela, bem como a forma de adjetivos e pronomes que a modificam.\n",
            "\n",
            "**Artigos Indefinidos**\n",
            "\n",
            "* Masculino: ein\n",
            "* Feminino: eine\n",
            "* Neutro: ein\n",
            "\n",
            "**Artigos Definidos**\n",
            "\n",
            "* Masculino: der\n",
            "* Feminino: die\n",
            "* Neutro: das\n",
            "\n",
            "**Como Determinar o Gênero**\n",
            "\n",
            "Existem algumas regras gerais que podem ajudar a determinar o gênero de uma palavra:\n",
            "\n",
            "* **Terminações:**\n",
            "    * Substantivos que terminam em \"-e\" ou \"-heit\" geralmente são femininos.\n",
            "    * Substantivos que terminam em \"-chen\" ou \"-lein\" geralmente são neutros.\n",
            "    * Substantivos que terminam em \"-er\" ou \"-el\" geralmente são masculinos.\n",
            "* **Palavras Cognatas:**\n",
            "    * Substantivos que têm cognatas em inglês geralmente têm o mesmo gênero. Por exemplo, \"Haus\" (casa) é feminino em alemão e \"house\" é feminino em inglês.\n",
            "* **Uso:**\n",
            "    * O gênero de algumas palavras pode ser determinado pelo seu uso no contexto. Por exemplo, \"das Mädchen\" (a garota) é neutro, enquanto \"die Frau\" (a mulher) é feminino.\n",
            "\n",
            "**Exceções**\n",
            "\n",
            "Existem algumas exceções às regras gerais de gênero, como:\n",
            "\n",
            "* **Palavras que mudam de gênero:**\n",
            "    * \"das Kind\" (a criança) é neutro no singular, mas \"die Kinder\" (as crianças) é feminino no plural.\n",
            "* **Palavras com gêneros diferentes em diferentes dialetos:**\n",
            "    * \"das Butter\" (a manteiga) é neutro no norte da Alemanha, mas feminino no sul.\n",
            "* **Palavras emprestadas:**\n",
            "    * Palavras emprestadas de outras línguas geralmente mantêm seu gênero original. Por exemplo, \"der Computer\" (o computador) é masculino porque é masculino em inglês.\n",
            "\n",
            "**Importância do Gênero**\n",
            "\n",
            "O gênero é uma parte importante da gramática alemã e afeta a forma de muitas palavras. É essencial entender as regras de gênero para usar o alemão corretamente. \n",
            "\n",
            "Esperando prompt:fim\n"
          ]
        }
      ]
    },
    {
      "cell_type": "markdown",
      "source": [
        "## Melhorando a visualizacao"
      ],
      "metadata": {
        "id": "RVDhxfYwuacv"
      }
    },
    {
      "cell_type": "code",
      "source": [
        "# Melhorando a visualização\n",
        "# Código disponível em https://ai.google.dev/tutorials/python_quickstart#import_packages\n",
        "\n",
        "import textwrap\n",
        "from IPython.display import display\n",
        "from IPython.display import Markdown\n",
        "\n",
        "def to_markdown(text):\n",
        "  text = text.replace('\"', \"'\")\n",
        "  return Markdown(textwrap.indent(text, '> ', predicate=lambda _: True))\n",
        "\n",
        "# Imprimindo o histórico\n",
        "for message in chat.history:                     # imprimindo o histórico do chat\n",
        "  display(to_markdown(f\"**{message.role}**: {message.parts[0].text}\"))\n",
        "  print('--------------------------------------------------')"
      ],
      "metadata": {
        "colab": {
          "base_uri": "https://localhost:8080/",
          "height": 1000
        },
        "id": "M_INwECeueMf",
        "outputId": "f45c1a07-7bea-4cac-87a1-553ca4f1eb95"
      },
      "execution_count": null,
      "outputs": [
        {
          "output_type": "display_data",
          "data": {
            "text/plain": [
              "<IPython.core.display.Markdown object>"
            ],
            "text/markdown": "> **user**: qual é a capital do japao?"
          },
          "metadata": {}
        },
        {
          "output_type": "stream",
          "name": "stdout",
          "text": [
            "--------------------------------------------------\n"
          ]
        },
        {
          "output_type": "display_data",
          "data": {
            "text/plain": [
              "<IPython.core.display.Markdown object>"
            ],
            "text/markdown": "> **model**: Tóquio"
          },
          "metadata": {}
        },
        {
          "output_type": "stream",
          "name": "stdout",
          "text": [
            "--------------------------------------------------\n"
          ]
        },
        {
          "output_type": "display_data",
          "data": {
            "text/plain": [
              "<IPython.core.display.Markdown object>"
            ],
            "text/markdown": "> **user**: Qual é a comida típica desse país?"
          },
          "metadata": {}
        },
        {
          "output_type": "stream",
          "name": "stdout",
          "text": [
            "--------------------------------------------------\n"
          ]
        },
        {
          "output_type": "display_data",
          "data": {
            "text/plain": [
              "<IPython.core.display.Markdown object>"
            ],
            "text/markdown": "> **model**: Sushi"
          },
          "metadata": {}
        },
        {
          "output_type": "stream",
          "name": "stdout",
          "text": [
            "--------------------------------------------------\n"
          ]
        },
        {
          "output_type": "display_data",
          "data": {
            "text/plain": [
              "<IPython.core.display.Markdown object>"
            ],
            "text/markdown": "> **user**: o meu primo nasceu nessa cidade, qual é a nacionalidade dele?"
          },
          "metadata": {}
        },
        {
          "output_type": "stream",
          "name": "stdout",
          "text": [
            "--------------------------------------------------\n"
          ]
        },
        {
          "output_type": "display_data",
          "data": {
            "text/plain": [
              "<IPython.core.display.Markdown object>"
            ],
            "text/markdown": "> **model**: Japonesa"
          },
          "metadata": {}
        },
        {
          "output_type": "stream",
          "name": "stdout",
          "text": [
            "--------------------------------------------------\n"
          ]
        },
        {
          "output_type": "display_data",
          "data": {
            "text/plain": [
              "<IPython.core.display.Markdown object>"
            ],
            "text/markdown": "> **user**: e qual é a populacao dessa cidade?"
          },
          "metadata": {}
        },
        {
          "output_type": "stream",
          "name": "stdout",
          "text": [
            "--------------------------------------------------\n"
          ]
        },
        {
          "output_type": "display_data",
          "data": {
            "text/plain": [
              "<IPython.core.display.Markdown object>"
            ],
            "text/markdown": "> **model**: Tóquio: 13.960.302 (2021)"
          },
          "metadata": {}
        },
        {
          "output_type": "stream",
          "name": "stdout",
          "text": [
            "--------------------------------------------------\n"
          ]
        },
        {
          "output_type": "display_data",
          "data": {
            "text/plain": [
              "<IPython.core.display.Markdown object>"
            ],
            "text/markdown": "> **user**: eu quero aprender alemao"
          },
          "metadata": {}
        },
        {
          "output_type": "stream",
          "name": "stdout",
          "text": [
            "--------------------------------------------------\n"
          ]
        },
        {
          "output_type": "display_data",
          "data": {
            "text/plain": [
              "<IPython.core.display.Markdown object>"
            ],
            "text/markdown": "> **model**: **Recursos Online Gratuitos:**\n> \n> * Duolingo\n> * Memrise\n> * Busuu\n> * Babbel\n> * Lingoda\n> \n> **Aplicativos Móveis:**\n> \n> * Drops\n> * HelloTalk\n> * Tandem\n> * Rosetta Stone\n> * Beelinguapp\n> \n> **Cursos Online:**\n> \n> * Coursera\n> * edX\n> * Udemy\n> * Skillshare\n> * Goethe-Institut\n> \n> **Canais do YouTube:**\n> \n> * Easy German\n> * Learn German with Anja\n> * LingQ\n> * Deutsche Welle Learn German\n> * GermanPod101\n> \n> **Dicas para Aprender Alemão:**\n> \n> * Seja consistente com seus estudos.\n> * Pratique falar e ouvir regularmente.\n> * Use recursos autênticos, como filmes, músicas e artigos de notícias.\n> * Encontre um parceiro de idiomas ou tutor para praticar conversação.\n> * Não tenha medo de cometer erros.\n> * Divirta-se com o processo de aprendizado!"
          },
          "metadata": {}
        },
        {
          "output_type": "stream",
          "name": "stdout",
          "text": [
            "--------------------------------------------------\n"
          ]
        }
      ]
    }
  ]
}